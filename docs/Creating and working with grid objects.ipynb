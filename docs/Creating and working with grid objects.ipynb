{
 "cells": [
  {
   "cell_type": "markdown",
   "metadata": {},
   "source": [
    "# Examples"
   ]
  },
  {
   "cell_type": "code",
   "execution_count": 2,
   "metadata": {
    "collapsed": false
   },
   "outputs": [],
   "source": [
    "import pygeogrids.grids as grids\n",
    "import numpy as np"
   ]
  },
  {
   "cell_type": "markdown",
   "metadata": {},
   "source": [
    "Let's create a simple regular 10x10 degree grid with grid points at the center of each 10x10 degree cell.\n",
    "\n",
    "First by hand to understand what is going on underneath"
   ]
  },
  {
   "cell_type": "code",
   "execution_count": 13,
   "metadata": {
    "collapsed": false
   },
   "outputs": [
    {
     "name": "stdout",
     "output_type": "stream",
     "text": [
      "[-175 -165 -155 -145 -135 -125 -115 -105  -95  -85  -75  -65  -55  -45  -35\n",
      "  -25  -15   -5    5   15   25   35   45   55   65   75   85   95  105  115\n",
      "  125  135  145  155  165  175]\n",
      "[ 85  75  65  55  45  35  25  15   5  -5 -15 -25 -35 -45 -55 -65 -75 -85]\n"
     ]
    }
   ],
   "source": [
    "# create the longitudes\n",
    "lons = np.arange(-180 + 5, 180, 10)\n",
    "print(lons)\n",
    "lats = np.arange(90 - 5, -90, -10)\n",
    "print(lats)"
   ]
  },
  {
   "cell_type": "markdown",
   "metadata": {},
   "source": [
    "These are just the dimensions or we can also call them the \"sides\" of the array that defines all the gridpoints."
   ]
  },
  {
   "cell_type": "code",
   "execution_count": 42,
   "metadata": {
    "collapsed": false
   },
   "outputs": [],
   "source": [
    "# create all the grid points by using the numpy.meshgrid function\n",
    "longrid, latgrid = np.meshgrid(lons, lats)"
   ]
  },
  {
   "cell_type": "markdown",
   "metadata": {},
   "source": [
    "now we can create a BasicGrid. We can also define the shape of the grid. The first part of the shape must be in longitude direction."
   ]
  },
  {
   "cell_type": "code",
   "execution_count": 43,
   "metadata": {
    "collapsed": false
   },
   "outputs": [
    {
     "name": "stdout",
     "output_type": "stream",
     "text": [
      "(array([0, 1, 2, 3, 4, 5, 6, 7, 8, 9]), array([-175, -165, -155, -145, -135, -125, -115, -105,  -95,  -85]), array([85, 85, 85, 85, 85, 85, 85, 85, 85, 85]))\n"
     ]
    }
   ],
   "source": [
    "manualgrid = grids.BasicGrid(longrid.flatten(), latgrid.flatten(), shape=(36, 18))\n",
    "\n",
    "# Each point of the grid automatically got a grid point number\n",
    "gpis, gridlons, gridlats = manualgrid.get_grid_points()\n",
    "print(gpis[:10], gridlons[:10], gridlats[:10])"
   ]
  },
  {
   "cell_type": "markdown",
   "metadata": {},
   "source": [
    "The grid point indices or numbers are useful when creating lookup tables between grids."
   ]
  },
  {
   "cell_type": "markdown",
   "metadata": {},
   "source": [
    "We can now use the manualgrid instance to find the nearest gpi to any longitude and latitude"
   ]
  },
  {
   "cell_type": "code",
   "execution_count": 48,
   "metadata": {
    "collapsed": false
   },
   "outputs": [
    {
     "name": "stdout",
     "output_type": "stream",
     "text": [
      "(235, array([ 426227.83684784]))\n",
      "(15, 25)\n"
     ]
    }
   ],
   "source": [
    "ngpi, distance = manualgrid.find_nearest_gpi(15.84, 28.76)\n",
    "print(ngpi, distance)\n",
    "# convert the gpi to longitude and latitude\n",
    "print(manualgrid.gpi2lonlat(ngpi))"
   ]
  },
  {
   "cell_type": "markdown",
   "metadata": {},
   "source": [
    "The same grid can also be created by a method for creating regular grids"
   ]
  },
  {
   "cell_type": "code",
   "execution_count": 46,
   "metadata": {
    "collapsed": false
   },
   "outputs": [
    {
     "data": {
      "text/plain": [
       "True"
      ]
     },
     "execution_count": 46,
     "metadata": {},
     "output_type": "execute_result"
    }
   ],
   "source": [
    "autogrid = grids.genreg_grid(10, 10)\n",
    "autogrid == manualgrid"
   ]
  },
  {
   "cell_type": "markdown",
   "metadata": {},
   "source": [
    "If your grid has a 2D shape like the ones we just created then you can also get the row and the column of a grid point.\n",
    "This can be useful if you know that you have data stored on a specific grid and you want to read the data from a grid point."
   ]
  },
  {
   "cell_type": "code",
   "execution_count": 51,
   "metadata": {
    "collapsed": false
   },
   "outputs": [
    {
     "name": "stdout",
     "output_type": "stream",
     "text": [
      "(6, 19)\n"
     ]
    }
   ],
   "source": [
    "row, col = autogrid.gpi2rowcol(ngpi)\n",
    "print(row, col)"
   ]
  },
  {
   "cell_type": "markdown",
   "metadata": {},
   "source": [
    "## Iteration over gridpoints"
   ]
  },
  {
   "cell_type": "code",
   "execution_count": 50,
   "metadata": {
    "collapsed": false
   },
   "outputs": [
    {
     "name": "stdout",
     "output_type": "stream",
     "text": [
      "(0, -175.0, 85.0)\n",
      "(1, -165.0, 85.0)\n",
      "(2, -155.0, 85.0)\n",
      "(3, -145.0, 85.0)\n",
      "(4, -135.0, 85.0)\n",
      "(5, -125.0, 85.0)\n",
      "(6, -115.0, 85.0)\n",
      "(7, -105.0, 85.0)\n",
      "(8, -95.0, 85.0)\n",
      "(9, -85.0, 85.0)\n",
      "(10, -75.0, 85.0)\n"
     ]
    }
   ],
   "source": [
    "for i, (gpi, lon, lat) in enumerate(autogrid.grid_points()):\n",
    "    print(gpi, lon, lat)\n",
    "    if i==10: # this is just to keep the example output short\n",
    "        break"
   ]
  },
  {
   "cell_type": "markdown",
   "metadata": {},
   "source": [
    "## Calculation of lookup tables\n",
    "\n",
    "If you have a two grids and you know that you want to get the nearest neighbors for all of its grid points in the second grid you can calculate a lookup table once and reuse it later."
   ]
  },
  {
   "cell_type": "code",
   "execution_count": 57,
   "metadata": {
    "collapsed": false
   },
   "outputs": [
    {
     "name": "stdout",
     "output_type": "stream",
     "text": [
      "[ 17.29906911 -35.38535729 -71.93633461 -45.50119896  21.44038298\n",
      " -51.8807349  -53.74357805  86.06241248  80.23097461 -70.56187193]\n",
      "[ 117.908495     55.71301743 -107.521213   -167.90819856   70.20423657\n",
      " -153.14746009  -12.72514138  -44.59386791   25.45141516    3.75179355]\n"
     ]
    }
   ],
   "source": [
    "# lets generate a second grid with 10 random points on the Earth surface.\n",
    "\n",
    "randlat = np.random.random(10) * 180 - 90\n",
    "randlon = np.random.random(10) * 360 - 180\n",
    "print(randlat)\n",
    "print(randlon)\n",
    "# This grid has no meaningful 2D shape so none is given\n",
    "randgrid = grids.BasicGrid(randlon, randlat)"
   ]
  },
  {
   "cell_type": "markdown",
   "metadata": {},
   "source": [
    "Now lets calculate a lookup table to the regular 10x10° grid we created earlier"
   ]
  },
  {
   "cell_type": "code",
   "execution_count": 59,
   "metadata": {
    "collapsed": false
   },
   "outputs": [
    {
     "name": "stdout",
     "output_type": "stream",
     "text": [
      "[281 455 583 469 241 506 520  13  20 594]\n"
     ]
    }
   ],
   "source": [
    "lut = randgrid.calc_lut(autogrid)\n",
    "print(lut)"
   ]
  },
  {
   "cell_type": "markdown",
   "metadata": {},
   "source": [
    "The lookup table contains the grid point indices of the other grid, autogrid in this case. "
   ]
  },
  {
   "cell_type": "code",
   "execution_count": 65,
   "metadata": {
    "collapsed": false
   },
   "outputs": [
    {
     "name": "stdout",
     "output_type": "stream",
     "text": [
      "[ 15. -35. -75. -45.  25. -55. -55.  85.  85. -75.]\n",
      "[ 115.   55. -105. -165.   75. -155.  -15.  -45.   25.    5.]\n"
     ]
    }
   ],
   "source": [
    "lut_lons, lut_lats = autogrid.gpi2lonlat(lut)\n",
    "print(lut_lats)\n",
    "print(lut_lons)"
   ]
  },
  {
   "cell_type": "markdown",
   "metadata": {},
   "source": [
    "## Storing and loading grids\n",
    "Grids can be stored to disk as CF compliant netCDF files"
   ]
  },
  {
   "cell_type": "code",
   "execution_count": 67,
   "metadata": {
    "collapsed": false
   },
   "outputs": [],
   "source": [
    "import pygeogrids.netcdf as nc\n",
    "nc.save_grid('example.nc', randgrid)"
   ]
  },
  {
   "cell_type": "code",
   "execution_count": 75,
   "metadata": {
    "collapsed": true
   },
   "outputs": [],
   "source": [
    "loadedgrid = nc.load_grid('example.nc')"
   ]
  },
  {
   "cell_type": "code",
   "execution_count": null,
   "metadata": {
    "collapsed": true
   },
   "outputs": [],
   "source": []
  }
 ],
 "metadata": {
  "kernelspec": {
   "display_name": "Python 2",
   "language": "python",
   "name": "python2"
  },
  "language_info": {
   "codemirror_mode": {
    "name": "ipython",
    "version": 2
   },
   "file_extension": ".py",
   "mimetype": "text/x-python",
   "name": "python",
   "nbconvert_exporter": "python",
   "pygments_lexer": "ipython2",
   "version": "2.7.6"
  }
 },
 "nbformat": 4,
 "nbformat_minor": 0
}
